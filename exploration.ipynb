{
 "cells": [
  {
   "cell_type": "code",
   "execution_count": 12,
   "metadata": {},
   "outputs": [
    {
     "name": "stdout",
     "output_type": "stream",
     "text": [
      "<class 'pandas.core.frame.DataFrame'>\n",
      "Index: 1501 entries, 2017-10-01 to 2021-11-09\n",
      "Data columns (total 42 columns):\n",
      " #   Column         Non-Null Count  Dtype  \n",
      "---  ------         --------------  -----  \n",
      " 0   BTC_close      1501 non-null   float64\n",
      " 1   BTC_returns    1501 non-null   float64\n",
      " 2   TRX_close      1501 non-null   float64\n",
      " 3   TRX_returns    1501 non-null   float64\n",
      " 4   XRP_close      1501 non-null   float64\n",
      " 5   XRP_returns    1501 non-null   float64\n",
      " 6   IEF_close      1005 non-null   float64\n",
      " 7   IEF_adj_close  1005 non-null   float64\n",
      " 8   IEF_volume     1005 non-null   float64\n",
      " 9   IEF_returns    1005 non-null   float64\n",
      " 10  QQQ_close      1005 non-null   float64\n",
      " 11  QQQ_adj_close  1005 non-null   float64\n",
      " 12  QQQ_volume     1005 non-null   float64\n",
      " 13  QQQ_returns    1005 non-null   float64\n",
      " 14  FIL_close      1501 non-null   float64\n",
      " 15  FIL_returns    1501 non-null   float64\n",
      " 16  GLD_close      1005 non-null   float64\n",
      " 17  GLD_adj_close  1005 non-null   float64\n",
      " 18  GLD_volume     1005 non-null   float64\n",
      " 19  GLD_returns    1005 non-null   float64\n",
      " 20  TLT_close      1005 non-null   float64\n",
      " 21  TLT_adj_close  1005 non-null   float64\n",
      " 22  TLT_volume     1005 non-null   float64\n",
      " 23  TLT_returns    1005 non-null   float64\n",
      " 24  SPY_close      1005 non-null   float64\n",
      " 25  SPY_adj_close  1005 non-null   float64\n",
      " 26  SPY_volume     1005 non-null   float64\n",
      " 27  SPY_returns    1005 non-null   float64\n",
      " 28  ETH_close      1501 non-null   float64\n",
      " 29  ETH_returns    1501 non-null   float64\n",
      " 30  UNI_close      1501 non-null   float64\n",
      " 31  UNI_returns    1501 non-null   float64\n",
      " 32  DOT_close      1501 non-null   float64\n",
      " 33  DOT_returns    1501 non-null   float64\n",
      " 34  ADA_close      1501 non-null   float64\n",
      " 35  ADA_returns    1501 non-null   float64\n",
      " 36  BNB_close      1501 non-null   float64\n",
      " 37  BNB_returns    1501 non-null   float64\n",
      " 38  LTC_close      1501 non-null   float64\n",
      " 39  LTC_returns    1501 non-null   float64\n",
      " 40  SOL_close      1501 non-null   float64\n",
      " 41  SOL_returns    1501 non-null   float64\n",
      "dtypes: float64(42)\n",
      "memory usage: 504.2+ KB\n"
     ]
    }
   ],
   "source": [
    "from load_data import load_files\n",
    "import pandas as pd\n",
    "from pandas.plotting import lag_plot\n",
    "\n",
    "data = load_files('data')\n",
    "data.info()"
   ]
  },
  {
   "cell_type": "code",
   "execution_count": 15,
   "metadata": {},
   "outputs": [
    {
     "data": {
      "text/plain": [
       "<AxesSubplot:xlabel='y(t)', ylabel='y(t + 1)'>"
      ]
     },
     "execution_count": 15,
     "metadata": {},
     "output_type": "execute_result"
    },
    {
     "data": {
      "image/png": "[encoded data removed]",
      "text/plain": [
       "<Figure size 432x288 with 1 Axes>"
      ]
     },
     "metadata": {
      "needs_background": "light"
     },
     "output_type": "display_data"
    }
   ],
   "source": [
    "lag_plot(data['BTC_close'])"
   ]
  },
  {
   "cell_type": "code",
   "execution_count": null,
   "metadata": {},
   "outputs": [],
   "source": []
  }
 ],
 "metadata": {
  "interpreter": {
   "hash": "51432b8e5767c06330d9b51dfad63f9db0ea39868e37d921b9c2e277373f8d11"
  },
  "kernelspec": {
   "display_name": "Python 3.9.2 64-bit ('deeplearning': conda)",
   "language": "python",
   "name": "python3"
  },
  "language_info": {
   "codemirror_mode": {
    "name": "ipython",
    "version": 3
   },
   "file_extension": ".py",
   "mimetype": "text/x-python",
   "name": "python",
   "nbconvert_exporter": "python",
   "pygments_lexer": "ipython3",
   "version": "3.9.7"
  },
  "orig_nbformat": 4
 },
 "nbformat": 4,
 "nbformat_minor": 2
}
